{
 "cells": [
  {
   "cell_type": "code",
   "execution_count": 14,
   "id": "58860379",
   "metadata": {},
   "outputs": [
    {
     "data": {
      "text/plain": [
       "three    3\n",
       "four     4\n",
       "five     5\n",
       "six      6\n",
       "seven    7\n",
       "eight    8\n",
       "dtype: int64"
      ]
     },
     "execution_count": 14,
     "metadata": {},
     "output_type": "execute_result"
    }
   ],
   "source": [
    "# start with series in Pandas\n",
    "import pandas as pd\n",
    "import numpy as np\n",
    "\n",
    "list = [3, 4, 5, 6, 7, 8]\n",
    "series = pd.Series(list, index=['three', 'four', 'five', 'six', 'seven', 'eight'])\n",
    "series\n"
   ]
  },
  {
   "cell_type": "code",
   "execution_count": 8,
   "id": "284106fe",
   "metadata": {},
   "outputs": [
    {
     "data": {
      "text/plain": [
       "7"
      ]
     },
     "execution_count": 8,
     "metadata": {},
     "output_type": "execute_result"
    }
   ],
   "source": [
    "# grabbing the elements in series\n",
    "# p = series['seven']\n",
    "series[series>4].sum()"
   ]
  },
  {
   "cell_type": "code",
   "execution_count": 12,
   "id": "756cee65",
   "metadata": {},
   "outputs": [],
   "source": [
    "# dictionary is automatically give labels to series\n",
    "Dic = {'one': 1, 'two': 2, 'three': 3}\n",
    "D = pd.Series(Dic)"
   ]
  },
  {
   "cell_type": "code",
   "execution_count": 13,
   "id": "a8fad4d2",
   "metadata": {},
   "outputs": [
    {
     "data": {
      "text/plain": [
       "5"
      ]
     },
     "execution_count": 13,
     "metadata": {},
     "output_type": "execute_result"
    }
   ],
   "source": [
    "sm = D['two'] + D['three']\n",
    "sm"
   ]
  },
  {
   "cell_type": "code",
   "execution_count": 20,
   "id": "905a2b57",
   "metadata": {},
   "outputs": [
    {
     "data": {
      "text/html": [
       "<div>\n",
       "<style scoped>\n",
       "    .dataframe tbody tr th:only-of-type {\n",
       "        vertical-align: middle;\n",
       "    }\n",
       "\n",
       "    .dataframe tbody tr th {\n",
       "        vertical-align: top;\n",
       "    }\n",
       "\n",
       "    .dataframe thead th {\n",
       "        text-align: right;\n",
       "    }\n",
       "</style>\n",
       "<table border=\"1\" class=\"dataframe\">\n",
       "  <thead>\n",
       "    <tr style=\"text-align: right;\">\n",
       "      <th></th>\n",
       "      <th>P</th>\n",
       "      <th>W</th>\n",
       "      <th>X</th>\n",
       "      <th>Y</th>\n",
       "      <th>Z</th>\n",
       "    </tr>\n",
       "  </thead>\n",
       "  <tbody>\n",
       "    <tr>\n",
       "      <th>A</th>\n",
       "      <td>-0.589359</td>\n",
       "      <td>0.610243</td>\n",
       "      <td>-1.439016</td>\n",
       "      <td>0.240997</td>\n",
       "      <td>0.336260</td>\n",
       "    </tr>\n",
       "    <tr>\n",
       "      <th>B</th>\n",
       "      <td>0.687684</td>\n",
       "      <td>-0.600435</td>\n",
       "      <td>-0.600387</td>\n",
       "      <td>-0.404632</td>\n",
       "      <td>3.426709</td>\n",
       "    </tr>\n",
       "    <tr>\n",
       "      <th>C</th>\n",
       "      <td>0.275180</td>\n",
       "      <td>0.459606</td>\n",
       "      <td>1.146477</td>\n",
       "      <td>-0.274715</td>\n",
       "      <td>0.826316</td>\n",
       "    </tr>\n",
       "    <tr>\n",
       "      <th>D</th>\n",
       "      <td>-0.988487</td>\n",
       "      <td>0.866638</td>\n",
       "      <td>1.564309</td>\n",
       "      <td>0.620809</td>\n",
       "      <td>1.269548</td>\n",
       "    </tr>\n",
       "    <tr>\n",
       "      <th>E</th>\n",
       "      <td>1.975930</td>\n",
       "      <td>-1.921486</td>\n",
       "      <td>-2.121143</td>\n",
       "      <td>0.582334</td>\n",
       "      <td>0.713364</td>\n",
       "    </tr>\n",
       "  </tbody>\n",
       "</table>\n",
       "</div>"
      ],
      "text/plain": [
       "          P         W         X         Y         Z\n",
       "A -0.589359  0.610243 -1.439016  0.240997  0.336260\n",
       "B  0.687684 -0.600435 -0.600387 -0.404632  3.426709\n",
       "C  0.275180  0.459606  1.146477 -0.274715  0.826316\n",
       "D -0.988487  0.866638  1.564309  0.620809  1.269548\n",
       "E  1.975930 -1.921486 -2.121143  0.582334  0.713364"
      ]
     },
     "execution_count": 20,
     "metadata": {},
     "output_type": "execute_result"
    }
   ],
   "source": [
    "# DataFrames\n",
    "#Main concept and deal with 2 Dimenssion data\n",
    "data = np.random.randn(5,5)\n",
    "df = pd.DataFrame(data, ['A', 'B', 'C', \"D\", 'E'], ['P', 'W', 'X', 'Y', \"Z\"])\n",
    "df"
   ]
  },
  {
   "cell_type": "code",
   "execution_count": 21,
   "id": "a72c77ea",
   "metadata": {},
   "outputs": [
    {
     "data": {
      "text/plain": [
       "A   -0.589359\n",
       "B    0.687684\n",
       "C    0.275180\n",
       "D   -0.988487\n",
       "E    1.975930\n",
       "Name: P, dtype: float64"
      ]
     },
     "execution_count": 21,
     "metadata": {},
     "output_type": "execute_result"
    }
   ],
   "source": [
    "# Grabbing values from rows and columns as well\n",
    "df['P']"
   ]
  },
  {
   "cell_type": "code",
   "execution_count": 22,
   "id": "a2268972",
   "metadata": {},
   "outputs": [
    {
     "data": {
      "text/html": [
       "<div>\n",
       "<style scoped>\n",
       "    .dataframe tbody tr th:only-of-type {\n",
       "        vertical-align: middle;\n",
       "    }\n",
       "\n",
       "    .dataframe tbody tr th {\n",
       "        vertical-align: top;\n",
       "    }\n",
       "\n",
       "    .dataframe thead th {\n",
       "        text-align: right;\n",
       "    }\n",
       "</style>\n",
       "<table border=\"1\" class=\"dataframe\">\n",
       "  <thead>\n",
       "    <tr style=\"text-align: right;\">\n",
       "      <th></th>\n",
       "      <th>W</th>\n",
       "      <th>X</th>\n",
       "      <th>Y</th>\n",
       "    </tr>\n",
       "  </thead>\n",
       "  <tbody>\n",
       "    <tr>\n",
       "      <th>A</th>\n",
       "      <td>0.610243</td>\n",
       "      <td>-1.439016</td>\n",
       "      <td>0.240997</td>\n",
       "    </tr>\n",
       "    <tr>\n",
       "      <th>B</th>\n",
       "      <td>-0.600435</td>\n",
       "      <td>-0.600387</td>\n",
       "      <td>-0.404632</td>\n",
       "    </tr>\n",
       "    <tr>\n",
       "      <th>C</th>\n",
       "      <td>0.459606</td>\n",
       "      <td>1.146477</td>\n",
       "      <td>-0.274715</td>\n",
       "    </tr>\n",
       "    <tr>\n",
       "      <th>D</th>\n",
       "      <td>0.866638</td>\n",
       "      <td>1.564309</td>\n",
       "      <td>0.620809</td>\n",
       "    </tr>\n",
       "    <tr>\n",
       "      <th>E</th>\n",
       "      <td>-1.921486</td>\n",
       "      <td>-2.121143</td>\n",
       "      <td>0.582334</td>\n",
       "    </tr>\n",
       "  </tbody>\n",
       "</table>\n",
       "</div>"
      ],
      "text/plain": [
       "          W         X         Y\n",
       "A  0.610243 -1.439016  0.240997\n",
       "B -0.600435 -0.600387 -0.404632\n",
       "C  0.459606  1.146477 -0.274715\n",
       "D  0.866638  1.564309  0.620809\n",
       "E -1.921486 -2.121143  0.582334"
      ]
     },
     "execution_count": 22,
     "metadata": {},
     "output_type": "execute_result"
    }
   ],
   "source": [
    "df[['W', 'X', 'Y']]"
   ]
  },
  {
   "cell_type": "code",
   "execution_count": 24,
   "id": "648f0686",
   "metadata": {},
   "outputs": [
    {
     "data": {
      "text/html": [
       "<div>\n",
       "<style scoped>\n",
       "    .dataframe tbody tr th:only-of-type {\n",
       "        vertical-align: middle;\n",
       "    }\n",
       "\n",
       "    .dataframe tbody tr th {\n",
       "        vertical-align: top;\n",
       "    }\n",
       "\n",
       "    .dataframe thead th {\n",
       "        text-align: right;\n",
       "    }\n",
       "</style>\n",
       "<table border=\"1\" class=\"dataframe\">\n",
       "  <thead>\n",
       "    <tr style=\"text-align: right;\">\n",
       "      <th></th>\n",
       "      <th>P</th>\n",
       "      <th>W</th>\n",
       "      <th>X</th>\n",
       "      <th>Y</th>\n",
       "      <th>Z</th>\n",
       "    </tr>\n",
       "  </thead>\n",
       "  <tbody>\n",
       "    <tr>\n",
       "      <th>A</th>\n",
       "      <td>-0.589359</td>\n",
       "      <td>0.610243</td>\n",
       "      <td>-1.439016</td>\n",
       "      <td>0.240997</td>\n",
       "      <td>0.336260</td>\n",
       "    </tr>\n",
       "    <tr>\n",
       "      <th>B</th>\n",
       "      <td>0.687684</td>\n",
       "      <td>-0.600435</td>\n",
       "      <td>-0.600387</td>\n",
       "      <td>-0.404632</td>\n",
       "      <td>3.426709</td>\n",
       "    </tr>\n",
       "    <tr>\n",
       "      <th>C</th>\n",
       "      <td>0.275180</td>\n",
       "      <td>0.459606</td>\n",
       "      <td>1.146477</td>\n",
       "      <td>-0.274715</td>\n",
       "      <td>0.826316</td>\n",
       "    </tr>\n",
       "    <tr>\n",
       "      <th>D</th>\n",
       "      <td>-0.988487</td>\n",
       "      <td>0.866638</td>\n",
       "      <td>1.564309</td>\n",
       "      <td>0.620809</td>\n",
       "      <td>1.269548</td>\n",
       "    </tr>\n",
       "    <tr>\n",
       "      <th>E</th>\n",
       "      <td>1.975930</td>\n",
       "      <td>-1.921486</td>\n",
       "      <td>-2.121143</td>\n",
       "      <td>0.582334</td>\n",
       "      <td>0.713364</td>\n",
       "    </tr>\n",
       "  </tbody>\n",
       "</table>\n",
       "</div>"
      ],
      "text/plain": [
       "          P         W         X         Y         Z\n",
       "A -0.589359  0.610243 -1.439016  0.240997  0.336260\n",
       "B  0.687684 -0.600435 -0.600387 -0.404632  3.426709\n",
       "C  0.275180  0.459606  1.146477 -0.274715  0.826316\n",
       "D -0.988487  0.866638  1.564309  0.620809  1.269548\n",
       "E  1.975930 -1.921486 -2.121143  0.582334  0.713364"
      ]
     },
     "execution_count": 24,
     "metadata": {},
     "output_type": "execute_result"
    }
   ],
   "source": [
    "df"
   ]
  },
  {
   "cell_type": "code",
   "execution_count": 23,
   "id": "31f9a44f",
   "metadata": {},
   "outputs": [
    {
     "data": {
      "text/plain": [
       "P   -0.589359\n",
       "W    0.610243\n",
       "X   -1.439016\n",
       "Y    0.240997\n",
       "Z    0.336260\n",
       "Name: A, dtype: float64"
      ]
     },
     "execution_count": 23,
     "metadata": {},
     "output_type": "execute_result"
    }
   ],
   "source": [
    "df.loc['A']"
   ]
  },
  {
   "cell_type": "code",
   "execution_count": 25,
   "id": "25353545",
   "metadata": {},
   "outputs": [
    {
     "data": {
      "text/plain": [
       "-0.6003866953185851"
      ]
     },
     "execution_count": 25,
     "metadata": {},
     "output_type": "execute_result"
    }
   ],
   "source": [
    "df.loc['B']['X']"
   ]
  },
  {
   "cell_type": "code",
   "execution_count": 26,
   "id": "0e1a9f23",
   "metadata": {},
   "outputs": [
    {
     "data": {
      "text/html": [
       "<div>\n",
       "<style scoped>\n",
       "    .dataframe tbody tr th:only-of-type {\n",
       "        vertical-align: middle;\n",
       "    }\n",
       "\n",
       "    .dataframe tbody tr th {\n",
       "        vertical-align: top;\n",
       "    }\n",
       "\n",
       "    .dataframe thead th {\n",
       "        text-align: right;\n",
       "    }\n",
       "</style>\n",
       "<table border=\"1\" class=\"dataframe\">\n",
       "  <thead>\n",
       "    <tr style=\"text-align: right;\">\n",
       "      <th></th>\n",
       "      <th>P</th>\n",
       "      <th>W</th>\n",
       "      <th>X</th>\n",
       "      <th>Y</th>\n",
       "      <th>Z</th>\n",
       "    </tr>\n",
       "  </thead>\n",
       "  <tbody>\n",
       "    <tr>\n",
       "      <th>A</th>\n",
       "      <td>-0.589359</td>\n",
       "      <td>0.610243</td>\n",
       "      <td>-1.439016</td>\n",
       "      <td>0.240997</td>\n",
       "      <td>0.336260</td>\n",
       "    </tr>\n",
       "    <tr>\n",
       "      <th>B</th>\n",
       "      <td>0.687684</td>\n",
       "      <td>-0.600435</td>\n",
       "      <td>-0.600387</td>\n",
       "      <td>-0.404632</td>\n",
       "      <td>3.426709</td>\n",
       "    </tr>\n",
       "  </tbody>\n",
       "</table>\n",
       "</div>"
      ],
      "text/plain": [
       "          P         W         X         Y         Z\n",
       "A -0.589359  0.610243 -1.439016  0.240997  0.336260\n",
       "B  0.687684 -0.600435 -0.600387 -0.404632  3.426709"
      ]
     },
     "execution_count": 26,
     "metadata": {},
     "output_type": "execute_result"
    }
   ],
   "source": [
    "df.loc[['A', 'B']]"
   ]
  },
  {
   "cell_type": "code",
   "execution_count": 54,
   "id": "0d4ab426",
   "metadata": {},
   "outputs": [
    {
     "data": {
      "text/html": [
       "<div>\n",
       "<style scoped>\n",
       "    .dataframe tbody tr th:only-of-type {\n",
       "        vertical-align: middle;\n",
       "    }\n",
       "\n",
       "    .dataframe tbody tr th {\n",
       "        vertical-align: top;\n",
       "    }\n",
       "\n",
       "    .dataframe thead th {\n",
       "        text-align: right;\n",
       "    }\n",
       "</style>\n",
       "<table border=\"1\" class=\"dataframe\">\n",
       "  <thead>\n",
       "    <tr style=\"text-align: right;\">\n",
       "      <th></th>\n",
       "      <th>P</th>\n",
       "      <th>W</th>\n",
       "      <th>X</th>\n",
       "      <th>Y</th>\n",
       "      <th>Z</th>\n",
       "    </tr>\n",
       "  </thead>\n",
       "  <tbody>\n",
       "    <tr>\n",
       "      <th>A</th>\n",
       "      <td>NaN</td>\n",
       "      <td>0.610243</td>\n",
       "      <td>NaN</td>\n",
       "      <td>0.240997</td>\n",
       "      <td>0.336260</td>\n",
       "    </tr>\n",
       "    <tr>\n",
       "      <th>B</th>\n",
       "      <td>0.687684</td>\n",
       "      <td>NaN</td>\n",
       "      <td>NaN</td>\n",
       "      <td>NaN</td>\n",
       "      <td>3.426709</td>\n",
       "    </tr>\n",
       "    <tr>\n",
       "      <th>C</th>\n",
       "      <td>0.275180</td>\n",
       "      <td>0.459606</td>\n",
       "      <td>1.146477</td>\n",
       "      <td>NaN</td>\n",
       "      <td>0.826316</td>\n",
       "    </tr>\n",
       "    <tr>\n",
       "      <th>D</th>\n",
       "      <td>NaN</td>\n",
       "      <td>0.866638</td>\n",
       "      <td>1.564309</td>\n",
       "      <td>0.620809</td>\n",
       "      <td>1.269548</td>\n",
       "    </tr>\n",
       "    <tr>\n",
       "      <th>E</th>\n",
       "      <td>1.975930</td>\n",
       "      <td>NaN</td>\n",
       "      <td>NaN</td>\n",
       "      <td>0.582334</td>\n",
       "      <td>0.713364</td>\n",
       "    </tr>\n",
       "  </tbody>\n",
       "</table>\n",
       "</div>"
      ],
      "text/plain": [
       "          P         W         X         Y         Z\n",
       "A       NaN  0.610243       NaN  0.240997  0.336260\n",
       "B  0.687684       NaN       NaN       NaN  3.426709\n",
       "C  0.275180  0.459606  1.146477       NaN  0.826316\n",
       "D       NaN  0.866638  1.564309  0.620809  1.269548\n",
       "E  1.975930       NaN       NaN  0.582334  0.713364"
      ]
     },
     "execution_count": 54,
     "metadata": {},
     "output_type": "execute_result"
    }
   ],
   "source": [
    "# conditional selection from the dataFrame\n",
    "df[df>0]"
   ]
  },
  {
   "cell_type": "code",
   "execution_count": 53,
   "id": "1ea59595",
   "metadata": {},
   "outputs": [
    {
     "data": {
      "text/html": [
       "<div>\n",
       "<style scoped>\n",
       "    .dataframe tbody tr th:only-of-type {\n",
       "        vertical-align: middle;\n",
       "    }\n",
       "\n",
       "    .dataframe tbody tr th {\n",
       "        vertical-align: top;\n",
       "    }\n",
       "\n",
       "    .dataframe thead th {\n",
       "        text-align: right;\n",
       "    }\n",
       "</style>\n",
       "<table border=\"1\" class=\"dataframe\">\n",
       "  <thead>\n",
       "    <tr style=\"text-align: right;\">\n",
       "      <th></th>\n",
       "      <th>P</th>\n",
       "      <th>W</th>\n",
       "      <th>X</th>\n",
       "      <th>Y</th>\n",
       "      <th>Z</th>\n",
       "    </tr>\n",
       "  </thead>\n",
       "  <tbody>\n",
       "    <tr>\n",
       "      <th>A</th>\n",
       "      <td>-0.589359</td>\n",
       "      <td>0.610243</td>\n",
       "      <td>-1.439016</td>\n",
       "      <td>0.240997</td>\n",
       "      <td>0.336260</td>\n",
       "    </tr>\n",
       "    <tr>\n",
       "      <th>B</th>\n",
       "      <td>0.687684</td>\n",
       "      <td>-0.600435</td>\n",
       "      <td>-0.600387</td>\n",
       "      <td>-0.404632</td>\n",
       "      <td>3.426709</td>\n",
       "    </tr>\n",
       "    <tr>\n",
       "      <th>C</th>\n",
       "      <td>0.275180</td>\n",
       "      <td>0.459606</td>\n",
       "      <td>1.146477</td>\n",
       "      <td>-0.274715</td>\n",
       "      <td>0.826316</td>\n",
       "    </tr>\n",
       "    <tr>\n",
       "      <th>D</th>\n",
       "      <td>-0.988487</td>\n",
       "      <td>0.866638</td>\n",
       "      <td>1.564309</td>\n",
       "      <td>0.620809</td>\n",
       "      <td>1.269548</td>\n",
       "    </tr>\n",
       "    <tr>\n",
       "      <th>E</th>\n",
       "      <td>1.975930</td>\n",
       "      <td>-1.921486</td>\n",
       "      <td>-2.121143</td>\n",
       "      <td>0.582334</td>\n",
       "      <td>0.713364</td>\n",
       "    </tr>\n",
       "  </tbody>\n",
       "</table>\n",
       "</div>"
      ],
      "text/plain": [
       "          P         W         X         Y         Z\n",
       "A -0.589359  0.610243 -1.439016  0.240997  0.336260\n",
       "B  0.687684 -0.600435 -0.600387 -0.404632  3.426709\n",
       "C  0.275180  0.459606  1.146477 -0.274715  0.826316\n",
       "D -0.988487  0.866638  1.564309  0.620809  1.269548\n",
       "E  1.975930 -1.921486 -2.121143  0.582334  0.713364"
      ]
     },
     "execution_count": 53,
     "metadata": {},
     "output_type": "execute_result"
    }
   ],
   "source": [
    "df"
   ]
  },
  {
   "cell_type": "code",
   "execution_count": 58,
   "id": "482b6ef2",
   "metadata": {},
   "outputs": [
    {
     "data": {
      "text/html": [
       "<div>\n",
       "<style scoped>\n",
       "    .dataframe tbody tr th:only-of-type {\n",
       "        vertical-align: middle;\n",
       "    }\n",
       "\n",
       "    .dataframe tbody tr th {\n",
       "        vertical-align: top;\n",
       "    }\n",
       "\n",
       "    .dataframe thead th {\n",
       "        text-align: right;\n",
       "    }\n",
       "</style>\n",
       "<table border=\"1\" class=\"dataframe\">\n",
       "  <thead>\n",
       "    <tr style=\"text-align: right;\">\n",
       "      <th></th>\n",
       "      <th>P</th>\n",
       "      <th>W</th>\n",
       "      <th>X</th>\n",
       "      <th>Y</th>\n",
       "      <th>Z</th>\n",
       "    </tr>\n",
       "  </thead>\n",
       "  <tbody>\n",
       "    <tr>\n",
       "      <th>A</th>\n",
       "      <td>-0.589359</td>\n",
       "      <td>0.610243</td>\n",
       "      <td>-1.439016</td>\n",
       "      <td>0.240997</td>\n",
       "      <td>0.336260</td>\n",
       "    </tr>\n",
       "    <tr>\n",
       "      <th>C</th>\n",
       "      <td>0.275180</td>\n",
       "      <td>0.459606</td>\n",
       "      <td>1.146477</td>\n",
       "      <td>-0.274715</td>\n",
       "      <td>0.826316</td>\n",
       "    </tr>\n",
       "    <tr>\n",
       "      <th>D</th>\n",
       "      <td>-0.988487</td>\n",
       "      <td>0.866638</td>\n",
       "      <td>1.564309</td>\n",
       "      <td>0.620809</td>\n",
       "      <td>1.269548</td>\n",
       "    </tr>\n",
       "  </tbody>\n",
       "</table>\n",
       "</div>"
      ],
      "text/plain": [
       "          P         W         X         Y         Z\n",
       "A -0.589359  0.610243 -1.439016  0.240997  0.336260\n",
       "C  0.275180  0.459606  1.146477 -0.274715  0.826316\n",
       "D -0.988487  0.866638  1.564309  0.620809  1.269548"
      ]
     },
     "execution_count": 58,
     "metadata": {},
     "output_type": "execute_result"
    }
   ],
   "source": [
    "df[df['W']>0]"
   ]
  },
  {
   "cell_type": "code",
   "execution_count": 63,
   "id": "1a45c48b",
   "metadata": {},
   "outputs": [
    {
     "data": {
      "text/html": [
       "<div>\n",
       "<style scoped>\n",
       "    .dataframe tbody tr th:only-of-type {\n",
       "        vertical-align: middle;\n",
       "    }\n",
       "\n",
       "    .dataframe tbody tr th {\n",
       "        vertical-align: top;\n",
       "    }\n",
       "\n",
       "    .dataframe thead th {\n",
       "        text-align: right;\n",
       "    }\n",
       "</style>\n",
       "<table border=\"1\" class=\"dataframe\">\n",
       "  <thead>\n",
       "    <tr style=\"text-align: right;\">\n",
       "      <th></th>\n",
       "      <th>W</th>\n",
       "      <th>X</th>\n",
       "    </tr>\n",
       "  </thead>\n",
       "  <tbody>\n",
       "    <tr>\n",
       "      <th>A</th>\n",
       "      <td>0.610243</td>\n",
       "      <td>-1.439016</td>\n",
       "    </tr>\n",
       "    <tr>\n",
       "      <th>C</th>\n",
       "      <td>0.459606</td>\n",
       "      <td>1.146477</td>\n",
       "    </tr>\n",
       "    <tr>\n",
       "      <th>D</th>\n",
       "      <td>0.866638</td>\n",
       "      <td>1.564309</td>\n",
       "    </tr>\n",
       "  </tbody>\n",
       "</table>\n",
       "</div>"
      ],
      "text/plain": [
       "          W         X\n",
       "A  0.610243 -1.439016\n",
       "C  0.459606  1.146477\n",
       "D  0.866638  1.564309"
      ]
     },
     "execution_count": 63,
     "metadata": {},
     "output_type": "execute_result"
    }
   ],
   "source": [
    "df[df['W']>0][['W', 'X']]"
   ]
  },
  {
   "cell_type": "code",
   "execution_count": 64,
   "id": "1761f6ea",
   "metadata": {},
   "outputs": [
    {
     "data": {
      "text/html": [
       "<div>\n",
       "<style scoped>\n",
       "    .dataframe tbody tr th:only-of-type {\n",
       "        vertical-align: middle;\n",
       "    }\n",
       "\n",
       "    .dataframe tbody tr th {\n",
       "        vertical-align: top;\n",
       "    }\n",
       "\n",
       "    .dataframe thead th {\n",
       "        text-align: right;\n",
       "    }\n",
       "</style>\n",
       "<table border=\"1\" class=\"dataframe\">\n",
       "  <thead>\n",
       "    <tr style=\"text-align: right;\">\n",
       "      <th></th>\n",
       "      <th>P</th>\n",
       "      <th>W</th>\n",
       "      <th>X</th>\n",
       "      <th>Y</th>\n",
       "      <th>Z</th>\n",
       "    </tr>\n",
       "  </thead>\n",
       "  <tbody>\n",
       "    <tr>\n",
       "      <th>A</th>\n",
       "      <td>-0.589359</td>\n",
       "      <td>0.610243</td>\n",
       "      <td>-1.439016</td>\n",
       "      <td>0.240997</td>\n",
       "      <td>0.336260</td>\n",
       "    </tr>\n",
       "    <tr>\n",
       "      <th>B</th>\n",
       "      <td>0.687684</td>\n",
       "      <td>-0.600435</td>\n",
       "      <td>-0.600387</td>\n",
       "      <td>-0.404632</td>\n",
       "      <td>3.426709</td>\n",
       "    </tr>\n",
       "    <tr>\n",
       "      <th>C</th>\n",
       "      <td>0.275180</td>\n",
       "      <td>0.459606</td>\n",
       "      <td>1.146477</td>\n",
       "      <td>-0.274715</td>\n",
       "      <td>0.826316</td>\n",
       "    </tr>\n",
       "    <tr>\n",
       "      <th>D</th>\n",
       "      <td>-0.988487</td>\n",
       "      <td>0.866638</td>\n",
       "      <td>1.564309</td>\n",
       "      <td>0.620809</td>\n",
       "      <td>1.269548</td>\n",
       "    </tr>\n",
       "    <tr>\n",
       "      <th>E</th>\n",
       "      <td>1.975930</td>\n",
       "      <td>-1.921486</td>\n",
       "      <td>-2.121143</td>\n",
       "      <td>0.582334</td>\n",
       "      <td>0.713364</td>\n",
       "    </tr>\n",
       "  </tbody>\n",
       "</table>\n",
       "</div>"
      ],
      "text/plain": [
       "          P         W         X         Y         Z\n",
       "A -0.589359  0.610243 -1.439016  0.240997  0.336260\n",
       "B  0.687684 -0.600435 -0.600387 -0.404632  3.426709\n",
       "C  0.275180  0.459606  1.146477 -0.274715  0.826316\n",
       "D -0.988487  0.866638  1.564309  0.620809  1.269548\n",
       "E  1.975930 -1.921486 -2.121143  0.582334  0.713364"
      ]
     },
     "execution_count": 64,
     "metadata": {},
     "output_type": "execute_result"
    }
   ],
   "source": [
    "df"
   ]
  },
  {
   "cell_type": "code",
   "execution_count": 65,
   "id": "8c9c251c",
   "metadata": {},
   "outputs": [
    {
     "data": {
      "text/html": [
       "<div>\n",
       "<style scoped>\n",
       "    .dataframe tbody tr th:only-of-type {\n",
       "        vertical-align: middle;\n",
       "    }\n",
       "\n",
       "    .dataframe tbody tr th {\n",
       "        vertical-align: top;\n",
       "    }\n",
       "\n",
       "    .dataframe thead th {\n",
       "        text-align: right;\n",
       "    }\n",
       "</style>\n",
       "<table border=\"1\" class=\"dataframe\">\n",
       "  <thead>\n",
       "    <tr style=\"text-align: right;\">\n",
       "      <th></th>\n",
       "      <th>index</th>\n",
       "      <th>P</th>\n",
       "      <th>W</th>\n",
       "      <th>X</th>\n",
       "      <th>Y</th>\n",
       "      <th>Z</th>\n",
       "    </tr>\n",
       "  </thead>\n",
       "  <tbody>\n",
       "    <tr>\n",
       "      <th>0</th>\n",
       "      <td>A</td>\n",
       "      <td>-0.589359</td>\n",
       "      <td>0.610243</td>\n",
       "      <td>-1.439016</td>\n",
       "      <td>0.240997</td>\n",
       "      <td>0.336260</td>\n",
       "    </tr>\n",
       "    <tr>\n",
       "      <th>1</th>\n",
       "      <td>B</td>\n",
       "      <td>0.687684</td>\n",
       "      <td>-0.600435</td>\n",
       "      <td>-0.600387</td>\n",
       "      <td>-0.404632</td>\n",
       "      <td>3.426709</td>\n",
       "    </tr>\n",
       "    <tr>\n",
       "      <th>2</th>\n",
       "      <td>C</td>\n",
       "      <td>0.275180</td>\n",
       "      <td>0.459606</td>\n",
       "      <td>1.146477</td>\n",
       "      <td>-0.274715</td>\n",
       "      <td>0.826316</td>\n",
       "    </tr>\n",
       "    <tr>\n",
       "      <th>3</th>\n",
       "      <td>D</td>\n",
       "      <td>-0.988487</td>\n",
       "      <td>0.866638</td>\n",
       "      <td>1.564309</td>\n",
       "      <td>0.620809</td>\n",
       "      <td>1.269548</td>\n",
       "    </tr>\n",
       "    <tr>\n",
       "      <th>4</th>\n",
       "      <td>E</td>\n",
       "      <td>1.975930</td>\n",
       "      <td>-1.921486</td>\n",
       "      <td>-2.121143</td>\n",
       "      <td>0.582334</td>\n",
       "      <td>0.713364</td>\n",
       "    </tr>\n",
       "  </tbody>\n",
       "</table>\n",
       "</div>"
      ],
      "text/plain": [
       "  index         P         W         X         Y         Z\n",
       "0     A -0.589359  0.610243 -1.439016  0.240997  0.336260\n",
       "1     B  0.687684 -0.600435 -0.600387 -0.404632  3.426709\n",
       "2     C  0.275180  0.459606  1.146477 -0.274715  0.826316\n",
       "3     D -0.988487  0.866638  1.564309  0.620809  1.269548\n",
       "4     E  1.975930 -1.921486 -2.121143  0.582334  0.713364"
      ]
     },
     "execution_count": 65,
     "metadata": {},
     "output_type": "execute_result"
    }
   ],
   "source": [
    "df.reset_index()"
   ]
  },
  {
   "cell_type": "code",
   "execution_count": 84,
   "id": "e0e3c652",
   "metadata": {},
   "outputs": [
    {
     "data": {
      "text/html": [
       "<div>\n",
       "<style scoped>\n",
       "    .dataframe tbody tr th:only-of-type {\n",
       "        vertical-align: middle;\n",
       "    }\n",
       "\n",
       "    .dataframe tbody tr th {\n",
       "        vertical-align: top;\n",
       "    }\n",
       "\n",
       "    .dataframe thead th {\n",
       "        text-align: right;\n",
       "    }\n",
       "</style>\n",
       "<table border=\"1\" class=\"dataframe\">\n",
       "  <thead>\n",
       "    <tr style=\"text-align: right;\">\n",
       "      <th></th>\n",
       "      <th>P</th>\n",
       "      <th>W</th>\n",
       "      <th>X</th>\n",
       "      <th>Y</th>\n",
       "      <th>Z</th>\n",
       "    </tr>\n",
       "  </thead>\n",
       "  <tbody>\n",
       "    <tr>\n",
       "      <th>A</th>\n",
       "      <td>-0.589359</td>\n",
       "      <td>0.610243</td>\n",
       "      <td>-1.439016</td>\n",
       "      <td>0.240997</td>\n",
       "      <td>0.336260</td>\n",
       "    </tr>\n",
       "    <tr>\n",
       "      <th>B</th>\n",
       "      <td>0.687684</td>\n",
       "      <td>-0.600435</td>\n",
       "      <td>-0.600387</td>\n",
       "      <td>-0.404632</td>\n",
       "      <td>3.426709</td>\n",
       "    </tr>\n",
       "    <tr>\n",
       "      <th>C</th>\n",
       "      <td>0.275180</td>\n",
       "      <td>0.459606</td>\n",
       "      <td>1.146477</td>\n",
       "      <td>-0.274715</td>\n",
       "      <td>0.826316</td>\n",
       "    </tr>\n",
       "    <tr>\n",
       "      <th>D</th>\n",
       "      <td>-0.988487</td>\n",
       "      <td>0.866638</td>\n",
       "      <td>1.564309</td>\n",
       "      <td>0.620809</td>\n",
       "      <td>1.269548</td>\n",
       "    </tr>\n",
       "    <tr>\n",
       "      <th>E</th>\n",
       "      <td>1.975930</td>\n",
       "      <td>-1.921486</td>\n",
       "      <td>-2.121143</td>\n",
       "      <td>0.582334</td>\n",
       "      <td>0.713364</td>\n",
       "    </tr>\n",
       "  </tbody>\n",
       "</table>\n",
       "</div>"
      ],
      "text/plain": [
       "          P         W         X         Y         Z\n",
       "A -0.589359  0.610243 -1.439016  0.240997  0.336260\n",
       "B  0.687684 -0.600435 -0.600387 -0.404632  3.426709\n",
       "C  0.275180  0.459606  1.146477 -0.274715  0.826316\n",
       "D -0.988487  0.866638  1.564309  0.620809  1.269548\n",
       "E  1.975930 -1.921486 -2.121143  0.582334  0.713364"
      ]
     },
     "execution_count": 84,
     "metadata": {},
     "output_type": "execute_result"
    }
   ],
   "source": [
    "df.set_index('P') # point as index to any column\n",
    "df"
   ]
  },
  {
   "cell_type": "code",
   "execution_count": 88,
   "id": "28611ec7",
   "metadata": {},
   "outputs": [
    {
     "data": {
      "text/plain": [
       "A    False\n",
       "B    False\n",
       "C    False\n",
       "D    False\n",
       "E    False\n",
       "Name: W, dtype: bool"
      ]
     },
     "execution_count": 88,
     "metadata": {},
     "output_type": "execute_result"
    }
   ],
   "source": [
    "#operation on dataset\n",
    "df\n",
    "df['W'].isnull()"
   ]
  },
  {
   "cell_type": "code",
   "execution_count": 97,
   "id": "290177e4",
   "metadata": {},
   "outputs": [
    {
     "data": {
      "text/html": [
       "<div>\n",
       "<style scoped>\n",
       "    .dataframe tbody tr th:only-of-type {\n",
       "        vertical-align: middle;\n",
       "    }\n",
       "\n",
       "    .dataframe tbody tr th {\n",
       "        vertical-align: top;\n",
       "    }\n",
       "\n",
       "    .dataframe thead th {\n",
       "        text-align: right;\n",
       "    }\n",
       "</style>\n",
       "<table border=\"1\" class=\"dataframe\">\n",
       "  <thead>\n",
       "    <tr style=\"text-align: right;\">\n",
       "      <th></th>\n",
       "      <th>P</th>\n",
       "      <th>W</th>\n",
       "      <th>X</th>\n",
       "      <th>Y</th>\n",
       "      <th>Z</th>\n",
       "    </tr>\n",
       "  </thead>\n",
       "  <tbody>\n",
       "    <tr>\n",
       "      <th>A</th>\n",
       "      <td>-0.589359</td>\n",
       "      <td>0.610243</td>\n",
       "      <td>-1.439016</td>\n",
       "      <td>0.240997</td>\n",
       "      <td>0.336260</td>\n",
       "    </tr>\n",
       "    <tr>\n",
       "      <th>B</th>\n",
       "      <td>0.687684</td>\n",
       "      <td>-0.600435</td>\n",
       "      <td>-0.600387</td>\n",
       "      <td>-0.404632</td>\n",
       "      <td>3.426709</td>\n",
       "    </tr>\n",
       "    <tr>\n",
       "      <th>C</th>\n",
       "      <td>0.275180</td>\n",
       "      <td>0.459606</td>\n",
       "      <td>1.146477</td>\n",
       "      <td>-0.274715</td>\n",
       "      <td>0.826316</td>\n",
       "    </tr>\n",
       "    <tr>\n",
       "      <th>D</th>\n",
       "      <td>-0.988487</td>\n",
       "      <td>0.866638</td>\n",
       "      <td>1.564309</td>\n",
       "      <td>0.620809</td>\n",
       "      <td>1.269548</td>\n",
       "    </tr>\n",
       "    <tr>\n",
       "      <th>E</th>\n",
       "      <td>1.975930</td>\n",
       "      <td>-1.921486</td>\n",
       "      <td>-2.121143</td>\n",
       "      <td>0.582334</td>\n",
       "      <td>0.713364</td>\n",
       "    </tr>\n",
       "  </tbody>\n",
       "</table>\n",
       "</div>"
      ],
      "text/plain": [
       "          P         W         X         Y         Z\n",
       "A -0.589359  0.610243 -1.439016  0.240997  0.336260\n",
       "B  0.687684 -0.600435 -0.600387 -0.404632  3.426709\n",
       "C  0.275180  0.459606  1.146477 -0.274715  0.826316\n",
       "D -0.988487  0.866638  1.564309  0.620809  1.269548\n",
       "E  1.975930 -1.921486 -2.121143  0.582334  0.713364"
      ]
     },
     "execution_count": 97,
     "metadata": {},
     "output_type": "execute_result"
    }
   ],
   "source": [
    "df\n",
    "# df.sort_values(by='W')"
   ]
  },
  {
   "cell_type": "code",
   "execution_count": 95,
   "id": "6f7220a1",
   "metadata": {},
   "outputs": [
    {
     "data": {
      "text/plain": [
       "array([ 0.61024324, -0.60043481,  0.45960568,  0.86663809, -1.92148628])"
      ]
     },
     "execution_count": 95,
     "metadata": {},
     "output_type": "execute_result"
    }
   ],
   "source": [
    "df['W'].unique()"
   ]
  },
  {
   "cell_type": "code",
   "execution_count": 98,
   "id": "43ccef6f",
   "metadata": {},
   "outputs": [
    {
     "data": {
      "text/plain": [
       "P   -1.178719\n",
       "W    1.220486\n",
       "X   -2.878033\n",
       "Y    0.481994\n",
       "Z    0.672519\n",
       "Name: A, dtype: float64"
      ]
     },
     "execution_count": 98,
     "metadata": {},
     "output_type": "execute_result"
    }
   ],
   "source": [
    "df.loc['A'].apply(lambda x : x+x)"
   ]
  }
 ],
 "metadata": {
  "kernelspec": {
   "display_name": "Python 3 (ipykernel)",
   "language": "python",
   "name": "python3"
  },
  "language_info": {
   "codemirror_mode": {
    "name": "ipython",
    "version": 3
   },
   "file_extension": ".py",
   "mimetype": "text/x-python",
   "name": "python",
   "nbconvert_exporter": "python",
   "pygments_lexer": "ipython3",
   "version": "3.11.5"
  }
 },
 "nbformat": 4,
 "nbformat_minor": 5
}
