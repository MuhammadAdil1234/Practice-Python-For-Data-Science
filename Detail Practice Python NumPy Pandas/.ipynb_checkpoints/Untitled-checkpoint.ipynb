{
 "cells": [
  {
   "cell_type": "code",
   "execution_count": 4,
   "id": "e13e4c9a",
   "metadata": {},
   "outputs": [
    {
     "name": "stdout",
     "output_type": "stream",
     "text": [
      "Asign Variable 2 5.5\n",
      "Assign Variable 2 5.5\n"
     ]
    }
   ],
   "source": [
    "# Detail Practice of Python Pandas and NumPy\n",
    "\n",
    "# Variables and Data Types\n",
    "x = \"Asign Variable\"\n",
    "y = 2\n",
    "z = 5.5\n",
    "print(x,y,z)\n",
    "#alternative\n",
    "# here we are assigning the multiple values at same line\n",
    "x,y,z = 'Assign Variable', 2, 5.5\n",
    "print(x,y,z)"
   ]
  },
  {
   "cell_type": "code",
   "execution_count": 8,
   "id": "6e2dea14",
   "metadata": {},
   "outputs": [
    {
     "data": {
      "text/plain": [
       "5"
      ]
     },
     "execution_count": 8,
     "metadata": {},
     "output_type": "execute_result"
    }
   ],
   "source": [
    "# Check data Types \n",
    "type(x)\n",
    "type(y)\n",
    "type(z)\n",
    "# we can also use casting to convert one data type to another\n",
    "w = int(z)\n",
    "w"
   ]
  },
  {
   "cell_type": "code",
   "execution_count": 24,
   "id": "518e7db9",
   "metadata": {},
   "outputs": [
    {
     "name": "stdout",
     "output_type": "stream",
     "text": [
      "Muhammad Adil\n",
      "Muhammad Adil\n",
      "Adil\n",
      "Muhammad \n",
      "MuhammadAdil\n",
      "Jello\n",
      "Hello Muhammad Adil Badshah\n"
     ]
    }
   ],
   "source": [
    "# string is also working like array/list\n",
    "# we can play with string let suppose\n",
    "st = 'Muhammad Adil'\n",
    "print(st)\n",
    "# we can grab this string character by character\n",
    "print(st[0:]) # 0 to till end\n",
    "print(st[9:]) # from 9th to till end\n",
    "print(st[:9]) # 0 to to just 8th index\n",
    "\n",
    "st1 = 'Muhammad'\n",
    "st2 = 'Adil'\n",
    "final = st1 + st2 # concatenate the string\n",
    "print(final)\n",
    "\n",
    "# we can perform some functionality with string to modify\n",
    "strr = 'I am a good student that learn ASAP'\n",
    "strr.upper()\n",
    "strr.lower()\n",
    "#important\n",
    "strr.split(' ') # split string into list\n",
    "a = \"Hello\"\n",
    "print(a.replace(\"H\", \"J\"))\n",
    "\n",
    "#important\n",
    "print('{} Muhammad Adil {name}'.format(a, name='Badshah'))"
   ]
  },
  {
   "cell_type": "code",
   "execution_count": 30,
   "id": "59abeb3c",
   "metadata": {},
   "outputs": [
    {
     "name": "stdout",
     "output_type": "stream",
     "text": [
      "Equal to 5 and 10\n"
     ]
    }
   ],
   "source": [
    "# if-else condition\n",
    "#Indendation is important\n",
    "x, y = 5, 10\n",
    "if x>5 and y<10:\n",
    "    print('Between 5 and 10')\n",
    "elif x == 5 and y == 10:\n",
    "    print('Equal to 5 and 10')\n",
    "else:\n",
    "    print('Not both')\n"
   ]
  },
  {
   "cell_type": "code",
   "execution_count": 47,
   "id": "909b9793",
   "metadata": {},
   "outputs": [
    {
     "name": "stdout",
     "output_type": "stream",
     "text": [
      "0\n",
      "1\n",
      "2\n",
      "3\n",
      "4\n",
      "5\n",
      "6\n",
      "7\n",
      "8\n",
      "9\n",
      "0\n",
      "1\n",
      "2\n",
      "3\n",
      "4\n"
     ]
    }
   ],
   "source": [
    "# loops in python\n",
    "for x in range(0,10):\n",
    "    print(x)\n",
    "v = 0\n",
    "while v <5:\n",
    "    print(v)\n",
    "    v+=1"
   ]
  },
  {
   "cell_type": "code",
   "execution_count": 54,
   "id": "c88c182e",
   "metadata": {},
   "outputs": [
    {
     "name": "stdout",
     "output_type": "stream",
     "text": [
      "1\n",
      "2\n",
      "3\n",
      "4\n",
      "5\n",
      "1\n",
      "2\n",
      "3\n",
      "4\n",
      "5\n"
     ]
    },
    {
     "data": {
      "text/plain": [
       "[1, 2, 'Muhammad', 4, 5, 'Adil']"
      ]
     },
     "execution_count": 54,
     "metadata": {},
     "output_type": "execute_result"
    }
   ],
   "source": [
    "# list \n",
    "# most important in python in array term\n",
    "first = [1, 2, 3, 4, 5]\n",
    "# two way to acess list\n",
    "for x in range(len(first)):\n",
    "    print(first[x])\n",
    "for x in first:\n",
    "    print(x)\n",
    "first.insert(3, \"Muhammad\")\n",
    "first.append('Adil')\n",
    "first\n",
    "first.pop(2)\n",
    "first\n",
    "# many more function we can use to play with list"
   ]
  },
  {
   "cell_type": "code",
   "execution_count": 71,
   "id": "2c2cf6ec",
   "metadata": {},
   "outputs": [
    {
     "name": "stdout",
     "output_type": "stream",
     "text": [
      "[1, 2, 3, 4]\n",
      "[4, 5, 6, 5]\n",
      "[7, 8, 9, 6]\n",
      "[6, 5]\n"
     ]
    }
   ],
   "source": [
    "name = [[1,2,3, 4], [4,5,6, 5],[7,8,9, 6]]\n",
    "for x in name:\n",
    "    print(x)\n",
    "print(name[1][2:])"
   ]
  },
  {
   "cell_type": "code",
   "execution_count": 94,
   "id": "92374f90",
   "metadata": {},
   "outputs": [
    {
     "name": "stdout",
     "output_type": "stream",
     "text": [
      "apple\n",
      "banana\n",
      "cherry\n",
      "[4]\n",
      "[4, 16]\n"
     ]
    }
   ],
   "source": [
    "# list comprehensive **** IMPORTANT ******\n",
    "fruits = [\"apple\", \"banana\", \"cherry\"]\n",
    "[print(x) for x in fruits]\n",
    "number = [1,2,3, 4]\n",
    "x = [x**2 for x in number if x == 2]\n",
    "print(x)\n",
    "squared_numbers = [(lambda x: x**2)(x) for x in number if (x ==2) or (x == 4)]\n",
    "\n",
    "print(squared_numbers)"
   ]
  },
  {
   "cell_type": "code",
   "execution_count": 111,
   "id": "480b48cf",
   "metadata": {},
   "outputs": [
    {
     "data": {
      "text/plain": [
       "[1, 4, 3, 8]"
      ]
     },
     "execution_count": 111,
     "metadata": {},
     "output_type": "execute_result"
    }
   ],
   "source": [
    "# maping \n",
    "number = [1,2,3, 4]\n",
    "new = list(map(lambda x: x+x if x%2 == 0 else x, number))\n",
    "new"
   ]
  },
  {
   "cell_type": "code",
   "execution_count": 123,
   "id": "33d68bcd",
   "metadata": {},
   "outputs": [
    {
     "name": "stdout",
     "output_type": "stream",
     "text": [
      "{\n",
      "    \"name\": \"John\",\n",
      "    \"age\": 30,\n",
      "    \"city\": \"New York\"\n",
      "}\n"
     ]
    }
   ],
   "source": [
    "import json\n",
    "\n",
    "# a Python object (dict):\n",
    "x = {\n",
    "  \"name\": \"John\",\n",
    "  \"age\": 30,\n",
    "  \"city\": \"New York\"\n",
    "}\n",
    "\n",
    "# convert into JSON:\n",
    "yy = json.dumps(x, indent=4)\n",
    "\n",
    "# the result is a JSON string:\n",
    "print(yy)"
   ]
  },
  {
   "cell_type": "code",
   "execution_count": 128,
   "id": "c0d982c0",
   "metadata": {},
   "outputs": [
    {
     "name": "stdout",
     "output_type": "stream",
     "text": [
      "Enter number 11\n",
      "Incorrect entry\n"
     ]
    }
   ],
   "source": [
    "num = input(\"Enter number 1\")\n",
    "try:\n",
    "    if l == 1: \n",
    "        print('A')\n",
    "    else:\n",
    "        print('B')\n",
    "except:\n",
    "    print('Incorrect entry')"
   ]
  },
  {
   "cell_type": "code",
   "execution_count": null,
   "id": "6666d954",
   "metadata": {},
   "outputs": [],
   "source": []
  }
 ],
 "metadata": {
  "kernelspec": {
   "display_name": "Python 3 (ipykernel)",
   "language": "python",
   "name": "python3"
  },
  "language_info": {
   "codemirror_mode": {
    "name": "ipython",
    "version": 3
   },
   "file_extension": ".py",
   "mimetype": "text/x-python",
   "name": "python",
   "nbconvert_exporter": "python",
   "pygments_lexer": "ipython3",
   "version": "3.11.5"
  }
 },
 "nbformat": 4,
 "nbformat_minor": 5
}
