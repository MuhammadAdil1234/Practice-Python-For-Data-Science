{
 "cells": [
  {
   "cell_type": "code",
   "execution_count": 4,
   "id": "856f3956",
   "metadata": {},
   "outputs": [
    {
     "name": "stdout",
     "output_type": "stream",
     "text": [
      "Asign Variable 2 5.5\n",
      "Assign Variable 2 5.5\n"
     ]
    }
   ],
   "source": [
    "# Detail Practice of Python Pandas and NumPy\n",
    "\n",
    "# Variables and Data Types\n",
    "x = \"Asign Variable\"\n",
    "y = 2\n",
    "z = 5.5\n",
    "print(x,y,z)\n",
    "#alternative\n",
    "# here we are assigning the multiple values at same line\n",
    "x,y,z = 'Assign Variable', 2, 5.5\n",
    "print(x,y,z)"
   ]
  },
  {
   "cell_type": "code",
   "execution_count": 8,
   "id": "7f1eebb7",
   "metadata": {},
   "outputs": [
    {
     "data": {
      "text/plain": [
       "5"
      ]
     },
     "execution_count": 8,
     "metadata": {},
     "output_type": "execute_result"
    }
   ],
   "source": [
    "# Check data Types \n",
    "type(x)\n",
    "type(y)\n",
    "type(z)\n",
    "# we can also use casting to convert one data type to another\n",
    "w = int(z)\n",
    "w"
   ]
  },
  {
   "cell_type": "code",
   "execution_count": 24,
   "id": "9f8e6bee",
   "metadata": {},
   "outputs": [
    {
     "name": "stdout",
     "output_type": "stream",
     "text": [
      "Muhammad Adil\n",
      "Muhammad Adil\n",
      "Adil\n",
      "Muhammad \n",
      "MuhammadAdil\n",
      "Jello\n",
      "Hello Muhammad Adil Badshah\n"
     ]
    }
   ],
   "source": [
    "# string is also working like array/list\n",
    "# we can play with string let suppose\n",
    "st = 'Muhammad Adil'\n",
    "print(st)\n",
    "# we can grab this string character by character\n",
    "print(st[0:]) # 0 to till end\n",
    "print(st[9:]) # from 9th to till end\n",
    "print(st[:9]) # 0 to to just 8th index\n",
    "\n",
    "st1 = 'Muhammad'\n",
    "st2 = 'Adil'\n",
    "final = st1 + st2 # concatenate the string\n",
    "print(final)\n",
    "\n",
    "# we can perform some functionality with string to modify\n",
    "strr = 'I am a good student that learn ASAP'\n",
    "strr.upper()\n",
    "strr.lower()\n",
    "#important\n",
    "strr.split(' ') # split string into list\n",
    "a = \"Hello\"\n",
    "print(a.replace(\"H\", \"J\"))\n",
    "\n",
    "#important\n",
    "print('{} Muhammad Adil {name}'.format(a, name='Badshah'))"
   ]
  },
  {
   "cell_type": "code",
   "execution_count": 30,
   "id": "61b8d812",
   "metadata": {},
   "outputs": [
    {
     "name": "stdout",
     "output_type": "stream",
     "text": [
      "Equal to 5 and 10\n"
     ]
    }
   ],
   "source": [
    "# if-else condition\n",
    "#Indendation is important\n",
    "x, y = 5, 10\n",
    "if x>5 and y<10:\n",
    "    print('Between 5 and 10')\n",
    "elif x == 5 and y == 10:\n",
    "    print('Equal to 5 and 10')\n",
    "else:\n",
    "    print('Not both')\n"
   ]
  },
  {
   "cell_type": "code",
   "execution_count": 47,
   "id": "c1a80c75",
   "metadata": {},
   "outputs": [
    {
     "name": "stdout",
     "output_type": "stream",
     "text": [
      "0\n",
      "1\n",
      "2\n",
      "3\n",
      "4\n",
      "5\n",
      "6\n",
      "7\n",
      "8\n",
      "9\n",
      "0\n",
      "1\n",
      "2\n",
      "3\n",
      "4\n"
     ]
    }
   ],
   "source": [
    "# loops in python\n",
    "for x in range(0,10):\n",
    "    print(x)\n",
    "v = 0\n",
    "while v <5:\n",
    "    print(v)\n",
    "    v+=1"
   ]
  },
  {
   "cell_type": "code",
   "execution_count": 54,
   "id": "54587ab8",
   "metadata": {},
   "outputs": [
    {
     "name": "stdout",
     "output_type": "stream",
     "text": [
      "1\n",
      "2\n",
      "3\n",
      "4\n",
      "5\n",
      "1\n",
      "2\n",
      "3\n",
      "4\n",
      "5\n"
     ]
    },
    {
     "data": {
      "text/plain": [
       "[1, 2, 'Muhammad', 4, 5, 'Adil']"
      ]
     },
     "execution_count": 54,
     "metadata": {},
     "output_type": "execute_result"
    }
   ],
   "source": [
    "# list \n",
    "# most important in python in array term\n",
    "first = [1, 2, 3, 4, 5]\n",
    "# two way to acess list\n",
    "for x in range(len(first)):\n",
    "    print(first[x])\n",
    "for x in first:\n",
    "    print(x)\n",
    "first.insert(3, \"Muhammad\")\n",
    "first.append('Adil')\n",
    "first\n",
    "first.pop(2)\n",
    "first\n",
    "# many more function we can use to play with list"
   ]
  },
  {
   "cell_type": "code",
   "execution_count": 71,
   "id": "bca9c377",
   "metadata": {},
   "outputs": [
    {
     "name": "stdout",
     "output_type": "stream",
     "text": [
      "[1, 2, 3, 4]\n",
      "[4, 5, 6, 5]\n",
      "[7, 8, 9, 6]\n",
      "[6, 5]\n"
     ]
    }
   ],
   "source": [
    "name = [[1,2,3, 4], [4,5,6, 5],[7,8,9, 6]]\n",
    "for x in name:\n",
    "    print(x)\n",
    "print(name[1][2:])"
   ]
  },
  {
   "cell_type": "code",
   "execution_count": 94,
   "id": "6c043a1f",
   "metadata": {},
   "outputs": [
    {
     "name": "stdout",
     "output_type": "stream",
     "text": [
      "apple\n",
      "banana\n",
      "cherry\n",
      "[4]\n",
      "[4, 16]\n"
     ]
    }
   ],
   "source": [
    "# list comprehensive **** IMPORTANT ******\n",
    "fruits = [\"apple\", \"banana\", \"cherry\"]\n",
    "[print(x) for x in fruits]\n",
    "number = [1,2,3, 4]\n",
    "x = [x**2 for x in number if x == 2]\n",
    "print(x)\n",
    "squared_numbers = [(lambda x: x**2)(x) for x in number if (x ==2) or (x == 4)]\n",
    "\n",
    "print(squared_numbers)"
   ]
  },
  {
   "cell_type": "code",
   "execution_count": 111,
   "id": "772297e8",
   "metadata": {},
   "outputs": [
    {
     "data": {
      "text/plain": [
       "[1, 4, 3, 8]"
      ]
     },
     "execution_count": 111,
     "metadata": {},
     "output_type": "execute_result"
    }
   ],
   "source": [
    "# maping \n",
    "number = [1,2,3, 4]\n",
    "new = list(map(lambda x: x+x if x%2 == 0 else x, number))\n",
    "new"
   ]
  },
  {
   "cell_type": "code",
   "execution_count": 123,
   "id": "587a4e5a",
   "metadata": {},
   "outputs": [
    {
     "name": "stdout",
     "output_type": "stream",
     "text": [
      "{\n",
      "    \"name\": \"John\",\n",
      "    \"age\": 30,\n",
      "    \"city\": \"New York\"\n",
      "}\n"
     ]
    }
   ],
   "source": [
    "import json\n",
    "\n",
    "# a Python object (dict):\n",
    "x = {\n",
    "  \"name\": \"John\",\n",
    "  \"age\": 30,\n",
    "  \"city\": \"New York\"\n",
    "}\n",
    "\n",
    "# convert into JSON:\n",
    "yy = json.dumps(x, indent=4)\n",
    "\n",
    "# the result is a JSON string:\n",
    "print(yy)"
   ]
  },
  {
   "cell_type": "code",
   "execution_count": 128,
   "id": "df8803e0",
   "metadata": {},
   "outputs": [
    {
     "name": "stdout",
     "output_type": "stream",
     "text": [
      "Enter number 11\n",
      "Incorrect entry\n"
     ]
    }
   ],
   "source": [
    "num = input(\"Enter number 1\")\n",
    "try:\n",
    "    if l == 1: \n",
    "        print('A')\n",
    "    else:\n",
    "        print('B')\n",
    "except:\n",
    "    print('Incorrect entry')"
   ]
  },
  {
   "cell_type": "code",
   "execution_count": 129,
   "id": "3e9d92e6",
   "metadata": {},
   "outputs": [
    {
     "name": "stdout",
     "output_type": "stream",
     "text": [
      "43.0\n"
     ]
    }
   ],
   "source": []
  },
  {
   "cell_type": "code",
   "execution_count": 2,
   "id": "c3b4e403",
   "metadata": {},
   "outputs": [
    {
     "data": {
      "text/plain": [
       "array([[ 1,  2,  3,  4],\n",
       "       [ 5,  6,  7,  8],\n",
       "       [ 9, 10, 11, 12],\n",
       "       [13, 14, 15, 16]])"
      ]
     },
     "execution_count": 2,
     "metadata": {},
     "output_type": "execute_result"
    }
   ],
   "source": [
    "# NumPy practice\n",
    "import numpy as np\n",
    "# convert list into array\n",
    "arr = [[1,2,3,4],[5,6,7,8],[9,10,11,12],[13,14,15,16]]\n",
    "np.array(arr)"
   ]
  },
  {
   "cell_type": "code",
   "execution_count": 21,
   "id": "117d3e74",
   "metadata": {},
   "outputs": [],
   "source": [
    "# in this way we can make array in numpy\n",
    "arr2 = np.arange(1,50).reshape(7,7)"
   ]
  },
  {
   "cell_type": "code",
   "execution_count": 8,
   "id": "31a830ce",
   "metadata": {},
   "outputs": [
    {
     "data": {
      "text/plain": [
       "array([[-0.65047324, -1.45147285,  0.65742178,  0.06386474, -0.50059207],\n",
       "       [-0.6188161 , -1.15114651, -0.82201705,  1.4895267 ,  0.19520441],\n",
       "       [-0.6855697 , -2.14478204,  1.18195457, -1.14844461, -2.46891218],\n",
       "       [-0.88409962,  0.83156868, -0.35811174, -0.65302894,  0.17747843],\n",
       "       [-1.48795701,  1.69771147, -0.75020033, -0.41525822, -0.19915493]])"
      ]
     },
     "execution_count": 8,
     "metadata": {},
     "output_type": "execute_result"
    }
   ],
   "source": [
    "np.random.randn(5,5) # random generate array"
   ]
  },
  {
   "cell_type": "code",
   "execution_count": 16,
   "id": "8a2dbe43",
   "metadata": {},
   "outputs": [
    {
     "data": {
      "text/plain": [
       "16"
      ]
     },
     "execution_count": 16,
     "metadata": {},
     "output_type": "execute_result"
    }
   ],
   "source": [
    "# some functionality in numpy\n",
    "np.max(arr)"
   ]
  },
  {
   "cell_type": "code",
   "execution_count": 17,
   "id": "54ed12d1",
   "metadata": {},
   "outputs": [
    {
     "data": {
      "text/plain": [
       "1"
      ]
     },
     "execution_count": 17,
     "metadata": {},
     "output_type": "execute_result"
    }
   ],
   "source": [
    "np.min(arr)"
   ]
  },
  {
   "cell_type": "code",
   "execution_count": 19,
   "id": "4268b407",
   "metadata": {},
   "outputs": [
    {
     "data": {
      "text/plain": [
       "8.5"
      ]
     },
     "execution_count": 19,
     "metadata": {},
     "output_type": "execute_result"
    }
   ],
   "source": [
    "np.mean(arr)"
   ]
  },
  {
   "cell_type": "code",
   "execution_count": 20,
   "id": "90352816",
   "metadata": {},
   "outputs": [
    {
     "data": {
      "text/plain": [
       "4.6097722286464435"
      ]
     },
     "execution_count": 20,
     "metadata": {},
     "output_type": "execute_result"
    }
   ],
   "source": [
    "np.std(arr)"
   ]
  },
  {
   "cell_type": "code",
   "execution_count": 22,
   "id": "bf59279b",
   "metadata": {},
   "outputs": [
    {
     "data": {
      "text/plain": [
       "array([[ 1,  2,  3,  4,  5,  6,  7],\n",
       "       [ 8,  9, 10, 11, 12, 13, 14],\n",
       "       [15, 16, 17, 18, 19, 20, 21],\n",
       "       [22, 23, 24, 25, 26, 27, 28],\n",
       "       [29, 30, 31, 32, 33, 34, 35],\n",
       "       [36, 37, 38, 39, 40, 41, 42],\n",
       "       [43, 44, 45, 46, 47, 48, 49]])"
      ]
     },
     "execution_count": 22,
     "metadata": {},
     "output_type": "execute_result"
    }
   ],
   "source": [
    "arr2"
   ]
  },
  {
   "cell_type": "code",
   "execution_count": 52,
   "id": "4399545d",
   "metadata": {},
   "outputs": [
    {
     "data": {
      "text/plain": [
       "20"
      ]
     },
     "execution_count": 52,
     "metadata": {},
     "output_type": "execute_result"
    }
   ],
   "source": [
    "arr2[2,5]"
   ]
  },
  {
   "cell_type": "code",
   "execution_count": 24,
   "id": "cdcf08d8",
   "metadata": {},
   "outputs": [
    {
     "data": {
      "text/plain": [
       "array([[ 8,  9, 10, 11, 12, 13, 14],\n",
       "       [15, 16, 17, 18, 19, 20, 21],\n",
       "       [22, 23, 24, 25, 26, 27, 28]])"
      ]
     },
     "execution_count": 24,
     "metadata": {},
     "output_type": "execute_result"
    }
   ],
   "source": [
    "# Slicing in array\n",
    "arr2[1:4]"
   ]
  },
  {
   "cell_type": "code",
   "execution_count": 25,
   "id": "e29b41f5",
   "metadata": {},
   "outputs": [
    {
     "data": {
      "text/plain": [
       "array([[11, 12, 13, 14],\n",
       "       [18, 19, 20, 21],\n",
       "       [25, 26, 27, 28]])"
      ]
     },
     "execution_count": 25,
     "metadata": {},
     "output_type": "execute_result"
    }
   ],
   "source": [
    "arr2[1:4, 3:]"
   ]
  },
  {
   "cell_type": "code",
   "execution_count": 29,
   "id": "f6447ce4",
   "metadata": {},
   "outputs": [
    {
     "data": {
      "text/plain": [
       "array([21, 22, 23, 24, 25, 26, 27, 28, 29, 30, 31, 32, 33, 34, 35, 36, 37,\n",
       "       38, 39])"
      ]
     },
     "execution_count": 29,
     "metadata": {},
     "output_type": "execute_result"
    }
   ],
   "source": [
    "arr2[(arr2>20) & (arr2<40)] #conditional selection ffrom the array"
   ]
  },
  {
   "cell_type": "code",
   "execution_count": 33,
   "id": "b0cb0fbe",
   "metadata": {},
   "outputs": [],
   "source": [
    "arr3 = np.ones((5,5))"
   ]
  },
  {
   "cell_type": "code",
   "execution_count": 41,
   "id": "cc6035f1",
   "metadata": {},
   "outputs": [],
   "source": [
    "arr4 = arr3*5 + arr3 # arithmetic operation"
   ]
  },
  {
   "cell_type": "code",
   "execution_count": 48,
   "id": "2c36cbcc",
   "metadata": {},
   "outputs": [
    {
     "data": {
      "text/plain": [
       "array([[2.44948974, 2.44948974, 2.44948974],\n",
       "       [2.44948974, 2.44948974, 2.44948974]])"
      ]
     },
     "execution_count": 48,
     "metadata": {},
     "output_type": "execute_result"
    }
   ],
   "source": [
    "np.sqrt(arr4[1:3, 2:])"
   ]
  },
  {
   "cell_type": "code",
   "execution_count": 60,
   "id": "36a06d7c",
   "metadata": {},
   "outputs": [],
   "source": [
    "import pandas as pd\n",
    "\n",
    "data1 = {\n",
    "  \"name\": [\"Sally\", \"Mary\", \"John\"],\n",
    "  \"age\": [50, 40, 30]\n",
    "}\n",
    "\n",
    "data2 = {\n",
    "  \"qualified\": [True, False, False]\n",
    "}\n",
    "\n",
    "df1 = pd.DataFrame(data1)\n",
    "df2 = pd.DataFrame(data2)\n",
    "\n",
    "newdf = df1.join(df2)"
   ]
  },
  {
   "cell_type": "code",
   "execution_count": 61,
   "id": "88da5850",
   "metadata": {},
   "outputs": [
    {
     "data": {
      "text/html": [
       "<div>\n",
       "<style scoped>\n",
       "    .dataframe tbody tr th:only-of-type {\n",
       "        vertical-align: middle;\n",
       "    }\n",
       "\n",
       "    .dataframe tbody tr th {\n",
       "        vertical-align: top;\n",
       "    }\n",
       "\n",
       "    .dataframe thead th {\n",
       "        text-align: right;\n",
       "    }\n",
       "</style>\n",
       "<table border=\"1\" class=\"dataframe\">\n",
       "  <thead>\n",
       "    <tr style=\"text-align: right;\">\n",
       "      <th></th>\n",
       "      <th>name</th>\n",
       "      <th>age</th>\n",
       "      <th>qualified</th>\n",
       "    </tr>\n",
       "  </thead>\n",
       "  <tbody>\n",
       "    <tr>\n",
       "      <th>0</th>\n",
       "      <td>Sally</td>\n",
       "      <td>50</td>\n",
       "      <td>True</td>\n",
       "    </tr>\n",
       "    <tr>\n",
       "      <th>1</th>\n",
       "      <td>Mary</td>\n",
       "      <td>40</td>\n",
       "      <td>False</td>\n",
       "    </tr>\n",
       "    <tr>\n",
       "      <th>2</th>\n",
       "      <td>John</td>\n",
       "      <td>30</td>\n",
       "      <td>False</td>\n",
       "    </tr>\n",
       "  </tbody>\n",
       "</table>\n",
       "</div>"
      ],
      "text/plain": [
       "    name  age  qualified\n",
       "0  Sally   50       True\n",
       "1   Mary   40      False\n",
       "2   John   30      False"
      ]
     },
     "execution_count": 61,
     "metadata": {},
     "output_type": "execute_result"
    }
   ],
   "source": [
    "newdf"
   ]
  },
  {
   "cell_type": "code",
   "execution_count": null,
   "id": "4d6b3932",
   "metadata": {},
   "outputs": [],
   "source": []
  }
 ],
 "metadata": {
  "kernelspec": {
   "display_name": "Python 3 (ipykernel)",
   "language": "python",
   "name": "python3"
  },
  "language_info": {
   "codemirror_mode": {
    "name": "ipython",
    "version": 3
   },
   "file_extension": ".py",
   "mimetype": "text/x-python",
   "name": "python",
   "nbconvert_exporter": "python",
   "pygments_lexer": "ipython3",
   "version": "3.11.5"
  }
 },
 "nbformat": 4,
 "nbformat_minor": 5
}
